{
 "cells": [
  {
   "cell_type": "code",
   "execution_count": 16,
   "id": "e59b264e-a972-469f-82de-af317dbbeeab",
   "metadata": {
    "scrolled": true
   },
   "outputs": [
    {
     "name": "stdout",
     "output_type": "stream",
     "text": [
      "Requirement already satisfied: pandas in ./.venv/lib/python3.12/site-packages (2.2.2)\n",
      "Requirement already satisfied: opencv-python-headless in ./.venv/lib/python3.12/site-packages (4.10.0.84)\n",
      "Requirement already satisfied: mediapipe in ./.venv/lib/python3.12/site-packages (0.10.14)\n",
      "Requirement already satisfied: scikit-learn in ./.venv/lib/python3.12/site-packages (1.5.0)\n",
      "Requirement already satisfied: matplotlib in ./.venv/lib/python3.12/site-packages (3.9.0)\n",
      "Requirement already satisfied: imbalanced-learn in ./.venv/lib/python3.12/site-packages (0.12.3)\n",
      "Requirement already satisfied: tqdm in ./.venv/lib/python3.12/site-packages (4.66.4)\n",
      "Requirement already satisfied: imutils in ./.venv/lib/python3.12/site-packages (0.5.4)\n",
      "Collecting pyarrow\n",
      "  Using cached pyarrow-16.1.0-cp312-cp312-manylinux_2_28_x86_64.whl.metadata (3.0 kB)\n",
      "Requirement already satisfied: numpy>=1.26.0 in ./.venv/lib/python3.12/site-packages (from pandas) (2.0.0)\n",
      "Requirement already satisfied: python-dateutil>=2.8.2 in ./.venv/lib/python3.12/site-packages (from pandas) (2.9.0.post0)\n",
      "Requirement already satisfied: pytz>=2020.1 in ./.venv/lib/python3.12/site-packages (from pandas) (2024.1)\n",
      "Requirement already satisfied: tzdata>=2022.7 in ./.venv/lib/python3.12/site-packages (from pandas) (2024.1)\n",
      "Requirement already satisfied: absl-py in ./.venv/lib/python3.12/site-packages (from mediapipe) (2.1.0)\n",
      "Requirement already satisfied: attrs>=19.1.0 in ./.venv/lib/python3.12/site-packages (from mediapipe) (23.2.0)\n",
      "Requirement already satisfied: flatbuffers>=2.0 in ./.venv/lib/python3.12/site-packages (from mediapipe) (24.3.25)\n",
      "Requirement already satisfied: jax in ./.venv/lib/python3.12/site-packages (from mediapipe) (0.4.30)\n",
      "Requirement already satisfied: jaxlib in ./.venv/lib/python3.12/site-packages (from mediapipe) (0.4.30)\n",
      "Requirement already satisfied: opencv-contrib-python in ./.venv/lib/python3.12/site-packages (from mediapipe) (4.10.0.84)\n",
      "Requirement already satisfied: protobuf<5,>=4.25.3 in ./.venv/lib/python3.12/site-packages (from mediapipe) (4.25.3)\n",
      "Requirement already satisfied: sounddevice>=0.4.4 in ./.venv/lib/python3.12/site-packages (from mediapipe) (0.4.7)\n",
      "Requirement already satisfied: scipy>=1.6.0 in ./.venv/lib/python3.12/site-packages (from scikit-learn) (1.14.0)\n",
      "Requirement already satisfied: joblib>=1.2.0 in ./.venv/lib/python3.12/site-packages (from scikit-learn) (1.4.2)\n",
      "Requirement already satisfied: threadpoolctl>=3.1.0 in ./.venv/lib/python3.12/site-packages (from scikit-learn) (3.5.0)\n",
      "Requirement already satisfied: contourpy>=1.0.1 in ./.venv/lib/python3.12/site-packages (from matplotlib) (1.2.1)\n",
      "Requirement already satisfied: cycler>=0.10 in ./.venv/lib/python3.12/site-packages (from matplotlib) (0.12.1)\n",
      "Requirement already satisfied: fonttools>=4.22.0 in ./.venv/lib/python3.12/site-packages (from matplotlib) (4.53.0)\n",
      "Requirement already satisfied: kiwisolver>=1.3.1 in ./.venv/lib/python3.12/site-packages (from matplotlib) (1.4.5)\n",
      "Requirement already satisfied: packaging>=20.0 in ./.venv/lib/python3.12/site-packages (from matplotlib) (24.1)\n",
      "Requirement already satisfied: pillow>=8 in ./.venv/lib/python3.12/site-packages (from matplotlib) (10.4.0)\n",
      "Requirement already satisfied: pyparsing>=2.3.1 in ./.venv/lib/python3.12/site-packages (from matplotlib) (3.1.2)\n",
      "Requirement already satisfied: six>=1.5 in ./.venv/lib/python3.12/site-packages (from python-dateutil>=2.8.2->pandas) (1.16.0)\n",
      "Requirement already satisfied: CFFI>=1.0 in ./.venv/lib/python3.12/site-packages (from sounddevice>=0.4.4->mediapipe) (1.16.0)\n",
      "Requirement already satisfied: ml-dtypes>=0.2.0 in ./.venv/lib/python3.12/site-packages (from jax->mediapipe) (0.4.0)\n",
      "Requirement already satisfied: opt-einsum in ./.venv/lib/python3.12/site-packages (from jax->mediapipe) (3.3.0)\n",
      "Requirement already satisfied: pycparser in ./.venv/lib/python3.12/site-packages (from CFFI>=1.0->sounddevice>=0.4.4->mediapipe) (2.22)\n",
      "Using cached pyarrow-16.1.0-cp312-cp312-manylinux_2_28_x86_64.whl (40.8 MB)\n",
      "Installing collected packages: pyarrow\n",
      "Successfully installed pyarrow-16.1.0\n",
      "Note: you may need to restart the kernel to use updated packages.\n"
     ]
    }
   ],
   "source": [
    "%pip install pandas opencv-python-headless mediapipe scikit-learn matplotlib imbalanced-learn tqdm imutils pyarrow"
   ]
  },
  {
   "cell_type": "code",
   "execution_count": 3,
   "id": "2fbcb0cd-1b70-474e-908c-cbd92edbdd4f",
   "metadata": {},
   "outputs": [],
   "source": [
    "import os\n",
    "import cv2\n",
    "import numpy as np\n",
    "from imutils import paths\n",
    "import mediapipe as mp\n",
    "from imblearn.over_sampling import SMOTE\n",
    "from sklearn.utils import resample\n",
    "import shutil\n",
    "import pandas as pd\n",
    "from sklearn.preprocessing import LabelEncoder"
   ]
  },
  {
   "cell_type": "markdown",
   "id": "6d68ef23-534c-431b-9a9b-6a1ddd57c9e7",
   "metadata": {},
   "source": [
    "## Testando caminho"
   ]
  },
  {
   "cell_type": "code",
   "execution_count": null,
   "id": "575e06ec",
   "metadata": {},
   "outputs": [],
   "source": [
    "## Testando caminho"
   ]
  },
  {
   "cell_type": "code",
   "execution_count": 4,
   "id": "5b2b1a82-25b2-43cd-921c-901153b041aa",
   "metadata": {},
   "outputs": [
    {
     "data": {
      "text/plain": [
       "(np.float64(-0.5), np.float64(47.5), np.float64(47.5), np.float64(-0.5))"
      ]
     },
     "execution_count": 4,
     "metadata": {},
     "output_type": "execute_result"
    },
    {
     "data": {
      "image/png": "[encoded data removed]",
      "text/plain": [
       "<Figure size 640x480 with 1 Axes>"
      ]
     },
     "metadata": {},
     "output_type": "display_data"
    }
   ],
   "source": [
    "img = cv2.imread('/home/viniciuss/Documents/projetos/FER-2013_emotion_detection/archive/train/angry/Training_10118481.jpg')\n",
    "plt.imshow(img,'binary')\n",
    "plt.axis(False)"
   ]
  },
  {
   "cell_type": "code",
   "execution_count": 5,
   "id": "2595e318-4017-4b94-b722-2a92edecd2b5",
   "metadata": {},
   "outputs": [
    {
     "data": {
      "text/plain": [
       "<matplotlib.image.AxesImage at 0x7a1e5309d700>"
      ]
     },
     "execution_count": 5,
     "metadata": {},
     "output_type": "execute_result"
    },
    {
     "data": {
      "image/png": "[encoded data removed]",
      "text/plain": [
       "<Figure size 640x480 with 1 Axes>"
      ]
     },
     "metadata": {},
     "output_type": "display_data"
    }
   ],
   "source": [
    "image = cv2.imread('/home/viniciuss/Documents/projetos/FER-2013_emotion_detection/archive/test/angry/PrivateTest_10131363.jpg', 0)\n",
    "plt.imshow(image)"
   ]
  },
  {
   "cell_type": "code",
   "execution_count": 6,
   "id": "1daa9a9a-af11-4152-a289-e7e6b3d90092",
   "metadata": {},
   "outputs": [
    {
     "data": {
      "text/plain": [
       "<matplotlib.image.AxesImage at 0x7a1e54c42a20>"
      ]
     },
     "execution_count": 6,
     "metadata": {},
     "output_type": "execute_result"
    },
    {
     "data": {
      "image/png": "[encoded data removed]",
      "text/plain": [
       "<Figure size 640x480 with 1 Axes>"
      ]
     },
     "metadata": {},
     "output_type": "display_data"
    }
   ],
   "source": [
    "image = cv2.imread('/home/viniciuss/Documents/projetos/FER-2013_emotion_detection/archive/train/angry/Training_3908.jpg', 0)\n",
    "plt.imshow(image)"
   ]
  },
  {
   "cell_type": "markdown",
   "id": "47c43d3b-6b52-4fac-8602-e77c05bb1569",
   "metadata": {},
   "source": [
    "## Iniciando"
   ]
  },
  {
   "cell_type": "code",
   "execution_count": 26,
   "id": "7ded2008-55f3-4d21-add9-15035994ca93",
   "metadata": {},
   "outputs": [
    {
     "name": "stdout",
     "output_type": "stream",
     "text": [
      "Contagem de imagens antes de remover as imagens sem face:\n",
      "angry: 4953\n",
      "sad: 6077\n",
      "surprise: 4002\n",
      "happy: 8989\n"
     ]
    }
   ],
   "source": [
    "# Defina o diretório base\n",
    "data_dir = '/home/viniciuss/Documents/projetos/FER-2013_emotion_detection/archive'\n",
    "\n",
    "# Emotions para considerar\n",
    "emotions = ['angry', 'sad', 'surprise', 'happy']\n",
    "emotion_to_num = {'angry': 0, 'sad': 1, 'surprise': 2, 'happy': 3}\n",
    "\n",
    "# Função para carregar as imagens e seus rótulos\n",
    "def load_images_and_labels(base_dir, emotions):\n",
    "    data = []\n",
    "    labels = []\n",
    "    for emotion in emotions:\n",
    "        emotion_dir = os.path.join(base_dir, emotion)\n",
    "        if os.path.isdir(emotion_dir):\n",
    "            for img_name in os.listdir(emotion_dir):\n",
    "                if img_name.endswith('.jpg'):\n",
    "                    img_path = os.path.join(emotion_dir, img_name)\n",
    "                    img = cv2.imread(img_path, cv2.IMREAD_GRAYSCALE)\n",
    "                    if img is not None:\n",
    "                        data.append(img)\n",
    "                        labels.append(emotion)\n",
    "    return np.array(data), np.array(labels)\n",
    "\n",
    "# Carregar imagens e rótulos\n",
    "train_images, train_labels = load_images_and_labels(os.path.join(data_dir, 'train'), emotions)\n",
    "test_images, test_labels = load_images_and_labels(os.path.join(data_dir, 'test'), emotions)\n",
    "\n",
    "# Combinar train e test\n",
    "all_images = np.concatenate((train_images, test_images), axis=0)\n",
    "all_labels = np.concatenate((train_labels, test_labels), axis=0)\n",
    "\n",
    "# Contagem das imagens por emoção\n",
    "emotion_counts_before = {emotion: np.sum(all_labels == emotion) for emotion in emotions}\n",
    "print(\"Contagem de imagens antes de remover as imagens sem face:\")\n",
    "for emotion, count in emotion_counts_before.items():\n",
    "    print(f\"{emotion}: {count}\")"
   ]
  },
  {
   "cell_type": "code",
   "execution_count": 27,
   "id": "de9d6558-df8f-43cd-b1ee-d6973e95b059",
   "metadata": {
    "scrolled": true
   },
   "outputs": [
    {
     "name": "stderr",
     "output_type": "stream",
     "text": [
      "I0000 00:00:1720035201.748452    4591 gl_context_egl.cc:85] Successfully initialized EGL. Major : 1 Minor: 5\n",
      "I0000 00:00:1720035201.773686   33202 gl_context.cc:357] GL version: 3.2 (OpenGL ES 3.2 NVIDIA 535.183.01), renderer: NVIDIA GeForce GTX 750 Ti/PCIe/SSE2\n",
      "W0000 00:00:1720035201.775616   33197 inference_feedback_manager.cc:114] Feedback manager requires a model with a single signature inference. Disabling support for feedback tensors.\n",
      "/home/viniciuss/Documents/projetos/FER-2013_emotion_detection/.venv/lib/python3.12/site-packages/google/protobuf/symbol_database.py:55: UserWarning: SymbolDatabase.GetPrototype() is deprecated. Please use message_factory.GetMessageClass() instead. SymbolDatabase.GetPrototype() will be removed soon.\n",
      "  warnings.warn('SymbolDatabase.GetPrototype() is deprecated. Please '\n"
     ]
    },
    {
     "name": "stdout",
     "output_type": "stream",
     "text": [
      "Contagem de imagens após remoção de imagens sem face:\n",
      "angry: 4529\n",
      "sad: 5581\n",
      "surprise: 3833\n",
      "happy: 8733\n"
     ]
    }
   ],
   "source": [
    "# Remover imagens sem face (utilizando um detector facial do MediaPipe)\n",
    "mp_face_detection = mp.solutions.face_detection\n",
    "face_detection = mp_face_detection.FaceDetection(min_detection_confidence=0.5)\n",
    "\n",
    "def remove_images_without_faces(images, labels):\n",
    "    valid_images = []\n",
    "    valid_labels = []\n",
    "    for img, label in zip(images, labels):\n",
    "        results = face_detection.process(cv2.cvtColor(img, cv2.COLOR_GRAY2RGB))\n",
    "        if results.detections:\n",
    "            valid_images.append(img)\n",
    "            valid_labels.append(label)\n",
    "    return np.array(valid_images), np.array(valid_labels)\n",
    "\n",
    "# Remover imagens sem face\n",
    "all_images, all_labels = remove_images_without_faces(all_images, all_labels)\n",
    "\n",
    "# Contagem das imagens por emoção após remover imagens\n",
    "emotion_counts = {emotion: np.sum(all_labels == emotion) for emotion in emotions}\n",
    "print(\"Contagem de imagens após remoção de imagens sem face:\")\n",
    "for emotion, count in emotion_counts.items():\n",
    "    print(f\"{emotion}: {count}\")"
   ]
  },
  {
   "cell_type": "code",
   "execution_count": 28,
   "id": "517f3983-0447-4c8c-a9a4-8664ef7dbc71",
   "metadata": {},
   "outputs": [
    {
     "name": "stdout",
     "output_type": "stream",
     "text": [
      "Contagem de imagens após undersampling:\n",
      "angry: 3833\n",
      "happy: 3833\n",
      "sad: 3833\n",
      "surprise: 3833\n"
     ]
    }
   ],
   "source": [
    "# Número de imagens na classe minoritária\n",
    "min_count = emotion_counts['surprise']\n",
    "\n",
    "# Função para realizar undersampling\n",
    "def undersample(images, labels, target_count):\n",
    "    undersampled_images = []\n",
    "    undersampled_labels = []\n",
    "    for emotion in emotions:\n",
    "        emotion_images = images[labels == emotion]\n",
    "        emotion_labels = labels[labels == emotion]\n",
    "        if len(emotion_images) > target_count:\n",
    "            emotion_images, emotion_labels = resample(emotion_images, emotion_labels, replace=False, n_samples=target_count, random_state=42)\n",
    "        undersampled_images.append(emotion_images)\n",
    "        undersampled_labels.append(emotion_labels)\n",
    "    return np.concatenate(undersampled_images), np.concatenate(undersampled_labels)\n",
    "\n",
    "# Realizar undersampling\n",
    "balanced_images, balanced_labels = undersample(all_images, all_labels, min_count)\n",
    "\n",
    "# Verificar contagem após undersampling\n",
    "unique, counts = np.unique(balanced_labels, return_counts=True)\n",
    "print(\"Contagem de imagens após undersampling:\")\n",
    "for emotion, count in zip(unique, counts):\n",
    "    print(f\"{emotion}: {count}\")"
   ]
  },
  {
   "cell_type": "code",
   "execution_count": 29,
   "id": "bcc10c3a-5b47-488c-a1ad-c3ca20baafc4",
   "metadata": {},
   "outputs": [
    {
     "name": "stderr",
     "output_type": "stream",
     "text": [
      "I0000 00:00:1720035392.647048    4591 gl_context_egl.cc:85] Successfully initialized EGL. Major : 1 Minor: 5\n",
      "I0000 00:00:1720035392.702778   34627 gl_context.cc:357] GL version: 3.2 (OpenGL ES 3.2 NVIDIA 535.183.01), renderer: NVIDIA GeForce GTX 750 Ti/PCIe/SSE2\n",
      "W0000 00:00:1720035392.706364   34623 inference_feedback_manager.cc:114] Feedback manager requires a model with a single signature inference. Disabling support for feedback tensors.\n",
      "W0000 00:00:1720035392.713594   34619 inference_feedback_manager.cc:114] Feedback manager requires a model with a single signature inference. Disabling support for feedback tensors.\n",
      "/home/viniciuss/Documents/projetos/FER-2013_emotion_detection/.venv/lib/python3.12/site-packages/pandas/io/parquet.py:190: UserWarning: The DataFrame has column names of mixed type. They will be converted to strings and not roundtrip correctly.\n",
      "  table = self.api.Table.from_pandas(df, **from_pandas_kwargs)\n"
     ]
    },
    {
     "name": "stdout",
     "output_type": "stream",
     "text": [
      "Landmarks extraídos e salvos em formato .parquet\n"
     ]
    }
   ],
   "source": [
    "# Extrair landmarks usando MediaPipe\n",
    "mp_face_mesh = mp.solutions.face_mesh\n",
    "face_mesh = mp_face_mesh.FaceMesh(static_image_mode=True, max_num_faces=1, min_detection_confidence=0.5)\n",
    "\n",
    "def extract_landmarks(images):\n",
    "    landmarks_list = []\n",
    "    for img in images:\n",
    "        results = face_mesh.process(cv2.cvtColor(img, cv2.COLOR_GRAY2RGB))\n",
    "        if results.multi_face_landmarks:\n",
    "            for face_landmarks in results.multi_face_landmarks:\n",
    "                landmarks = []\n",
    "                for lm in face_landmarks.landmark:\n",
    "                    landmarks.append(lm.x)\n",
    "                    landmarks.append(lm.y)\n",
    "                    landmarks.append(lm.z)\n",
    "                landmarks_list.append(landmarks)\n",
    "        else:\n",
    "            landmarks_list.append([0] * 468 * 3)  # Caso não encontre landmarks, preencha com zeros\n",
    "    return np.array(landmarks_list)\n",
    "\n",
    "# Extrair landmarks das imagens balanceadas\n",
    "landmarks = extract_landmarks(balanced_images)\n",
    "\n",
    "# Converter para DataFrame e salvar em .parquet\n",
    "balanced_labels_numeric = [emotion_to_num[label] for label in balanced_labels]\n",
    "df = pd.DataFrame(landmarks)\n",
    "df['label'] = balanced_labels_numeric\n",
    "df.to_parquet('/home/viniciuss/Documents/projetos/FER-2013_emotion_detection/landmarks_balanced.parquet', engine='pyarrow')\n",
    "\n",
    "print(\"Landmarks extraídos e salvos em formato .parquet\")"
   ]
  },
  {
   "cell_type": "markdown",
   "id": "8dbec6c1",
   "metadata": {},
   "source": [
    "## Verificando DF"
   ]
  },
  {
   "cell_type": "code",
   "execution_count": 4,
   "id": "6aa598a2-4c1d-45fe-a6b4-53826c88202c",
   "metadata": {},
   "outputs": [
    {
     "name": "stdout",
     "output_type": "stream",
     "text": [
      "Primeiras linhas do DataFrame:\n",
      "          0         1         2         3         4         5         6  \\\n",
      "0  0.542199  0.738833 -0.070273  0.535373  0.635229 -0.179770  0.532786   \n",
      "1  0.000000  0.000000  0.000000  0.000000  0.000000  0.000000  0.000000   \n",
      "2  0.429018  0.756555 -0.045187  0.431486  0.689657 -0.183432  0.437436   \n",
      "3  0.455101  0.528905 -0.093874  0.454369  0.438817 -0.144501  0.452669   \n",
      "4  0.294850  0.448779 -0.197011  0.312964  0.295665 -0.208506  0.317771   \n",
      "\n",
      "          7         8         9  ...      1395      1396      1397      1398  \\\n",
      "0  0.657359 -0.085466  0.492651  ...  0.566294  0.417931 -0.050389  0.741274   \n",
      "1  0.000000  0.000000  0.000000  ...  0.000000  0.000000  0.000000  0.000000   \n",
      "2  0.700313 -0.078584  0.430007  ...  0.549186  0.452173 -0.090314  0.760878   \n",
      "3  0.470683 -0.087341  0.422387  ...  0.478693  0.311043  0.005461  0.612753   \n",
      "4  0.370636 -0.152194  0.326018  ...  0.462963  0.223220  0.047739  0.674564   \n",
      "\n",
      "       1399      1400      1401      1402      1403  label  \n",
      "0  0.361307  0.021083  0.758458  0.344959  0.021630      0  \n",
      "1  0.000000  0.000000  0.000000  0.000000  0.000000      0  \n",
      "2  0.427681 -0.047697  0.783152  0.418819 -0.050588      0  \n",
      "3  0.283707  0.066111  0.627279  0.272741  0.067715      0  \n",
      "4  0.263596  0.072112  0.708854  0.250024  0.071952      0  \n",
      "\n",
      "[5 rows x 1405 columns]\n",
      "\n",
      "Tamanho do DataFrame:\n",
      "(15332, 1405)\n",
      "\n",
      "Verificar se há valores ausentes:\n",
      "0        0\n",
      "1        0\n",
      "2        0\n",
      "3        0\n",
      "4        0\n",
      "        ..\n",
      "1400     0\n",
      "1401     0\n",
      "1402     0\n",
      "1403     0\n",
      "label    0\n",
      "Length: 1405, dtype: int64\n",
      "\n",
      "Verificar o intervalo dos valores de landmarks faciais:\n",
      "Valores mínimos: -0.19563394784927368\n",
      "Valores máximos: 1.0006178617477417\n"
     ]
    }
   ],
   "source": [
    "# Carregar os landmarks salvos em .parquet\n",
    "landmarks_df = pd.read_parquet('/home/viniciuss/Documents/projetos/FER-2013_emotion_detection/landmarks_balanced.parquet')\n",
    "\n",
    "# Exibir informações básicas sobre os dados\n",
    "print('Primeiras linhas do DataFrame:')\n",
    "print(landmarks_df.head())\n",
    "\n",
    "print('\\nTamanho do DataFrame:')\n",
    "print(landmarks_df.shape)\n",
    "\n",
    "print('\\nVerificar se há valores ausentes:')\n",
    "print(landmarks_df.isnull().sum())\n",
    "\n",
    "# Exemplo de landmarks para análise (supondo que a segunda coluna contém os landmarks)\n",
    "example_landmarks = landmarks_df.iloc[0, :-1]  # Excluir a última coluna que contém os rótulos\n",
    "\n",
    "print('\\nVerificar o intervalo dos valores de landmarks faciais:')\n",
    "print(f\"Valores mínimos: {example_landmarks.min()}\")\n",
    "print(f\"Valores máximos: {example_landmarks.max()}\")"
   ]
  },
  {
   "cell_type": "code",
   "execution_count": 8,
   "id": "a750d4df",
   "metadata": {},
   "outputs": [
    {
     "name": "stdout",
     "output_type": "stream",
     "text": [
      "[0 1 2 3]\n",
      "count    15332.00000\n",
      "mean         1.50000\n",
      "std          1.11807\n",
      "min          0.00000\n",
      "25%          0.75000\n",
      "50%          1.50000\n",
      "75%          2.25000\n",
      "max          3.00000\n",
      "Name: label, dtype: float64\n"
     ]
    }
   ],
   "source": [
    "emocoes_unicas = landmarks_df['label'].unique()\n",
    "print(emocoes_unicas)\n",
    "\n",
    "estatisticas_emocoes = landmarks_df['label'].describe()\n",
    "print(estatisticas_emocoes)"
   ]
  }
 ],
 "metadata": {
  "kernelspec": {
   "display_name": "Python 3 (ipykernel)",
   "language": "python",
   "name": "python3"
  },
  "language_info": {
   "codemirror_mode": {
    "name": "ipython",
    "version": 3
   },
   "file_extension": ".py",
   "mimetype": "text/x-python",
   "name": "python",
   "nbconvert_exporter": "python",
   "pygments_lexer": "ipython3",
   "version": "3.12.3"
  }
 },
 "nbformat": 4,
 "nbformat_minor": 5
}
