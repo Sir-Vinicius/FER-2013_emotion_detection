{
 "cells": [
  {
   "cell_type": "code",
   "execution_count": 9,
   "metadata": {},
   "outputs": [
    {
     "name": "stdout",
     "output_type": "stream",
     "text": [
      "Requirement already satisfied: pandas in ./.venv/lib/python3.12/site-packages (2.2.2)\n",
      "Requirement already satisfied: numpy in ./.venv/lib/python3.12/site-packages (2.0.0)\n",
      "Requirement already satisfied: scikit-learn in ./.venv/lib/python3.12/site-packages (1.5.0)\n",
      "Requirement already satisfied: python-dateutil>=2.8.2 in ./.venv/lib/python3.12/site-packages (from pandas) (2.9.0.post0)\n",
      "Requirement already satisfied: pytz>=2020.1 in ./.venv/lib/python3.12/site-packages (from pandas) (2024.1)\n",
      "Requirement already satisfied: tzdata>=2022.7 in ./.venv/lib/python3.12/site-packages (from pandas) (2024.1)\n",
      "Requirement already satisfied: scipy>=1.6.0 in ./.venv/lib/python3.12/site-packages (from scikit-learn) (1.14.0)\n",
      "Requirement already satisfied: joblib>=1.2.0 in ./.venv/lib/python3.12/site-packages (from scikit-learn) (1.4.2)\n",
      "Requirement already satisfied: threadpoolctl>=3.1.0 in ./.venv/lib/python3.12/site-packages (from scikit-learn) (3.5.0)\n",
      "Requirement already satisfied: six>=1.5 in ./.venv/lib/python3.12/site-packages (from python-dateutil>=2.8.2->pandas) (1.16.0)\n",
      "Note: you may need to restart the kernel to use updated packages.\n"
     ]
    }
   ],
   "source": [
    "%pip install pandas numpy scikit-learn"
   ]
  },
  {
   "cell_type": "code",
   "execution_count": 1,
   "metadata": {},
   "outputs": [],
   "source": [
    "import pandas as pd\n",
    "from sklearn.model_selection import train_test_split\n",
    "from sklearn.preprocessing import StandardScaler\n",
    "from sklearn.svm import SVC\n",
    "from sklearn.metrics import accuracy_score, classification_report\n",
    "from sklearn.discriminant_analysis import LinearDiscriminantAnalysis\n",
    "from sklearn.ensemble import RandomForestClassifier\n",
    "from sklearn.model_selection import GridSearchCV\n",
    "import pickle"
   ]
  },
  {
   "cell_type": "code",
   "execution_count": 2,
   "metadata": {},
   "outputs": [
    {
     "name": "stdout",
     "output_type": "stream",
     "text": [
      "Primeiras linhas do DataFrame:\n",
      "          0         1         2         3         4         5         6  \\\n",
      "0  0.542199  0.738833 -0.070273  0.535373  0.635229 -0.179770  0.532786   \n",
      "1  0.000000  0.000000  0.000000  0.000000  0.000000  0.000000  0.000000   \n",
      "2  0.429018  0.756555 -0.045187  0.431486  0.689657 -0.183432  0.437436   \n",
      "3  0.455101  0.528905 -0.093874  0.454369  0.438817 -0.144501  0.452669   \n",
      "4  0.294850  0.448779 -0.197011  0.312964  0.295665 -0.208506  0.317771   \n",
      "\n",
      "          7         8         9  ...      1395      1396      1397      1398  \\\n",
      "0  0.657359 -0.085466  0.492651  ...  0.566294  0.417931 -0.050389  0.741274   \n",
      "1  0.000000  0.000000  0.000000  ...  0.000000  0.000000  0.000000  0.000000   \n",
      "2  0.700313 -0.078584  0.430007  ...  0.549186  0.452173 -0.090314  0.760878   \n",
      "3  0.470683 -0.087341  0.422387  ...  0.478693  0.311043  0.005461  0.612753   \n",
      "4  0.370636 -0.152194  0.326018  ...  0.462963  0.223220  0.047739  0.674564   \n",
      "\n",
      "       1399      1400      1401      1402      1403  label  \n",
      "0  0.361307  0.021083  0.758458  0.344959  0.021630      0  \n",
      "1  0.000000  0.000000  0.000000  0.000000  0.000000      0  \n",
      "2  0.427681 -0.047697  0.783152  0.418819 -0.050588      0  \n",
      "3  0.283707  0.066111  0.627279  0.272741  0.067715      0  \n",
      "4  0.263596  0.072112  0.708854  0.250024  0.071952      0  \n",
      "\n",
      "[5 rows x 1405 columns]\n"
     ]
    }
   ],
   "source": [
    "# Carregar os landmarks e rótulos do arquivo .parquet\n",
    "landmarks_df = pd.read_parquet('/home/viniciuss/Documents/projetos/FER-2013_emotion_detection/landmarks_balanced.parquet')\n",
    "\n",
    "# Exibir as primeiras linhas do DataFrame para verificar\n",
    "print(\"Primeiras linhas do DataFrame:\")\n",
    "print(landmarks_df.head())"
   ]
  },
  {
   "cell_type": "code",
   "execution_count": 3,
   "metadata": {},
   "outputs": [
    {
     "name": "stdout",
     "output_type": "stream",
     "text": [
      "Tamanho do conjunto de treino: 12265 amostras\n",
      "Tamanho do conjunto de teste: 3067 amostras\n"
     ]
    }
   ],
   "source": [
    "# Separar features e targets\n",
    "X = landmarks_df.drop('label', axis=1).values\n",
    "y = landmarks_df['label'].values\n",
    "\n",
    "# Dividir dados em conjunto de treino e teste\n",
    "X_train, X_test, y_train, y_test = train_test_split(X, y, test_size=0.2, random_state=42, stratify=y)\n",
    "\n",
    "# Normalizar as features se necessário (dependendo do modelo utilizado)\n",
    "scaler = StandardScaler()\n",
    "X_train_scaled = scaler.fit_transform(X_train)\n",
    "X_test_scaled = scaler.transform(X_test)\n",
    "\n",
    "# Verificar tamanhos dos conjuntos\n",
    "print(f\"Tamanho do conjunto de treino: {len(X_train)} amostras\")\n",
    "print(f\"Tamanho do conjunto de teste: {len(X_test)} amostras\")"
   ]
  },
  {
   "cell_type": "markdown",
   "metadata": {},
   "source": [
    "# Treinamentos SVC, LDA e RFC"
   ]
  },
  {
   "cell_type": "code",
   "execution_count": 13,
   "metadata": {},
   "outputs": [
    {
     "name": "stdout",
     "output_type": "stream",
     "text": [
      "Acurácia do SVC: 0.65\n",
      "\n",
      "Relatório de Classificação do SVC:\n",
      "              precision    recall  f1-score   support\n",
      "\n",
      "           0       0.54      0.54      0.54       767\n",
      "           1       0.51      0.57      0.54       766\n",
      "           2       0.77      0.74      0.75       767\n",
      "           3       0.81      0.74      0.77       767\n",
      "\n",
      "    accuracy                           0.65      3067\n",
      "   macro avg       0.66      0.65      0.65      3067\n",
      "weighted avg       0.66      0.65      0.65      3067\n",
      "\n"
     ]
    }
   ],
   "source": [
    "# Inicializar o classificador SVC\n",
    "svc = SVC(random_state=42)\n",
    "\n",
    "# Treinar o modelo\n",
    "svc.fit(X_train_scaled, y_train)\n",
    "\n",
    "# Prever no conjunto de teste\n",
    "y_pred_svc = svc.predict(X_test_scaled)\n",
    "\n",
    "# Avaliar o desempenho\n",
    "accuracy_svc = accuracy_score(y_test, y_pred_svc)\n",
    "print(f\"Acurácia do SVC: {accuracy_svc:.2f}\")\n",
    "\n",
    "# Relatório de classificação\n",
    "print(\"\\nRelatório de Classificação do SVC:\")\n",
    "print(classification_report(y_test, y_pred_svc))"
   ]
  },
  {
   "cell_type": "code",
   "execution_count": 14,
   "metadata": {},
   "outputs": [
    {
     "name": "stdout",
     "output_type": "stream",
     "text": [
      "Acurácia do LDA: 0.70\n",
      "\n",
      "Relatório de Classificação do LDA:\n",
      "              precision    recall  f1-score   support\n",
      "\n",
      "           0       0.57      0.60      0.59       767\n",
      "           1       0.61      0.61      0.61       766\n",
      "           2       0.80      0.78      0.79       767\n",
      "           3       0.81      0.79      0.80       767\n",
      "\n",
      "    accuracy                           0.70      3067\n",
      "   macro avg       0.70      0.70      0.70      3067\n",
      "weighted avg       0.70      0.70      0.70      3067\n",
      "\n"
     ]
    }
   ],
   "source": [
    "# Inicializar o LDA\n",
    "lda = LinearDiscriminantAnalysis()\n",
    "\n",
    "# Treinar o modelo\n",
    "lda.fit(X_train_scaled, y_train)\n",
    "\n",
    "# Prever no conjunto de teste\n",
    "y_pred_lda = lda.predict(X_test_scaled)\n",
    "\n",
    "# Avaliar o desempenho\n",
    "accuracy_lda = accuracy_score(y_test, y_pred_lda)\n",
    "print(f\"Acurácia do LDA: {accuracy_lda:.2f}\")\n",
    "\n",
    "# Relatório de classificação\n",
    "print(\"\\nRelatório de Classificação do LDA:\")\n",
    "print(classification_report(y_test, y_pred_lda))"
   ]
  },
  {
   "cell_type": "code",
   "execution_count": 15,
   "metadata": {},
   "outputs": [
    {
     "name": "stdout",
     "output_type": "stream",
     "text": [
      "Acurácia do RFC: 0.64\n",
      "\n",
      "Relatório de Classificação do RFC:\n",
      "              precision    recall  f1-score   support\n",
      "\n",
      "           0       0.52      0.53      0.53       767\n",
      "           1       0.53      0.54      0.54       766\n",
      "           2       0.76      0.75      0.76       767\n",
      "           3       0.74      0.71      0.73       767\n",
      "\n",
      "    accuracy                           0.64      3067\n",
      "   macro avg       0.64      0.64      0.64      3067\n",
      "weighted avg       0.64      0.64      0.64      3067\n",
      "\n"
     ]
    }
   ],
   "source": [
    "# Inicializar o RFC\n",
    "rfc = RandomForestClassifier(random_state=42)\n",
    "\n",
    "# Treinar o modelo\n",
    "rfc.fit(X_train_scaled, y_train)\n",
    "\n",
    "# Prever no conjunto de teste\n",
    "y_pred_rfc = rfc.predict(X_test_scaled)\n",
    "\n",
    "# Avaliar o desempenho\n",
    "accuracy_rfc = accuracy_score(y_test, y_pred_rfc)\n",
    "print(f\"Acurácia do RFC: {accuracy_rfc:.2f}\")\n",
    "\n",
    "# Relatório de classificação\n",
    "print(\"\\nRelatório de Classificação do RFC:\")\n",
    "print(classification_report(y_test, y_pred_rfc))"
   ]
  },
  {
   "cell_type": "markdown",
   "metadata": {},
   "source": [
    "# Salvando"
   ]
  },
  {
   "cell_type": "code",
   "execution_count": 16,
   "metadata": {},
   "outputs": [
    {
     "name": "stdout",
     "output_type": "stream",
     "text": [
      "Modelo LDA salvo em /home/viniciuss/Documents/projetos/FER-2013_emotion_detection/lda_model.pkl\n"
     ]
    }
   ],
   "source": [
    "model_path = '/home/viniciuss/Documents/projetos/FER-2013_emotion_detection/lda_model.pkl'\n",
    "\n",
    "# Salvar o modelo LDA treinado\n",
    "with open(model_path, 'wb') as file:\n",
    "    pickle.dump(lda, file)\n",
    "\n",
    "print(f\"Modelo LDA salvo em {model_path}\")"
   ]
  }
 ],
 "metadata": {
  "kernelspec": {
   "display_name": ".venv",
   "language": "python",
   "name": "python3"
  },
  "language_info": {
   "codemirror_mode": {
    "name": "ipython",
    "version": 3
   },
   "file_extension": ".py",
   "mimetype": "text/x-python",
   "name": "python",
   "nbconvert_exporter": "python",
   "pygments_lexer": "ipython3",
   "version": "3.12.3"
  }
 },
 "nbformat": 4,
 "nbformat_minor": 2
}
