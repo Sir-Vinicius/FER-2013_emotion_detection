{
 "cells": [
  {
   "cell_type": "code",
   "execution_count": 9,
   "metadata": {},
   "outputs": [
    {
     "name": "stdout",
     "output_type": "stream",
     "text": [
      "Requirement already satisfied: pandas in ./.venv/lib/python3.10/site-packages (2.2.2)\n",
      "Requirement already satisfied: numpy in ./.venv/lib/python3.10/site-packages (2.0.0)\n",
      "Requirement already satisfied: scikit-learn in ./.venv/lib/python3.10/site-packages (1.5.1)\n",
      "Requirement already satisfied: pyarrow in ./.venv/lib/python3.10/site-packages (16.1.0)\n",
      "Requirement already satisfied: fastparquet in ./.venv/lib/python3.10/site-packages (2024.5.0)\n",
      "Requirement already satisfied: python-dateutil>=2.8.2 in ./.venv/lib/python3.10/site-packages (from pandas) (2.9.0.post0)\n",
      "Requirement already satisfied: pytz>=2020.1 in ./.venv/lib/python3.10/site-packages (from pandas) (2024.1)\n",
      "Requirement already satisfied: tzdata>=2022.7 in ./.venv/lib/python3.10/site-packages (from pandas) (2024.1)\n",
      "Requirement already satisfied: joblib>=1.2.0 in ./.venv/lib/python3.10/site-packages (from scikit-learn) (1.4.2)\n",
      "Requirement already satisfied: scipy>=1.6.0 in ./.venv/lib/python3.10/site-packages (from scikit-learn) (1.14.0)\n",
      "Requirement already satisfied: threadpoolctl>=3.1.0 in ./.venv/lib/python3.10/site-packages (from scikit-learn) (3.5.0)\n",
      "Requirement already satisfied: fsspec in ./.venv/lib/python3.10/site-packages (from fastparquet) (2024.6.1)\n",
      "Requirement already satisfied: packaging in ./.venv/lib/python3.10/site-packages (from fastparquet) (24.1)\n",
      "Requirement already satisfied: cramjam>=2.3 in ./.venv/lib/python3.10/site-packages (from fastparquet) (2.8.3)\n",
      "Requirement already satisfied: six>=1.5 in ./.venv/lib/python3.10/site-packages (from python-dateutil>=2.8.2->pandas) (1.16.0)\n",
      "Note: you may need to restart the kernel to use updated packages.\n"
     ]
    }
   ],
   "source": [
    "%pip install pandas numpy scikit-learn pyarrow fastparquet"
   ]
  },
  {
   "cell_type": "code",
   "execution_count": 10,
   "metadata": {},
   "outputs": [],
   "source": [
    "import pandas as pd\n",
    "from sklearn.model_selection import train_test_split\n",
    "from sklearn.preprocessing import StandardScaler\n",
    "from sklearn.svm import SVC\n",
    "from sklearn.metrics import accuracy_score, classification_report\n",
    "from sklearn.discriminant_analysis import LinearDiscriminantAnalysis\n",
    "from sklearn.ensemble import RandomForestClassifier\n",
    "from sklearn.model_selection import GridSearchCV\n",
    "import pickle"
   ]
  },
  {
   "cell_type": "code",
   "execution_count": 11,
   "metadata": {},
   "outputs": [
    {
     "name": "stdout",
     "output_type": "stream",
     "text": [
      "Primeiras linhas do DataFrame:\n",
      "          0         1         2         3         4         5         6  \\\n",
      "0  0.532348  0.831424 -0.026991  0.536164  0.778881 -0.125715  0.534156   \n",
      "1  0.444280  0.714994 -0.065770  0.453648  0.612833 -0.181052  0.453395   \n",
      "2  0.642857  0.702614 -0.061711  0.650431  0.612668 -0.130811  0.639840   \n",
      "3  0.449421  0.796463 -0.033062  0.441775  0.698263 -0.173027  0.452383   \n",
      "4  0.433063  0.768405 -0.041844  0.461766  0.688208 -0.187343  0.454095   \n",
      "\n",
      "          7         8         9  ...      1395      1396      1397      1398  \\\n",
      "0  0.786114 -0.047851  0.510611  ...  0.585814  0.567389 -0.059839  0.753049   \n",
      "1  0.636534 -0.080809  0.435849  ...  0.539301  0.412650 -0.059697  0.743716   \n",
      "2  0.636721 -0.064377  0.616066  ...  0.654582  0.460700 -0.016876  0.772203   \n",
      "3  0.711487 -0.063360  0.424534  ...  0.537971  0.429226 -0.095272  0.764291   \n",
      "4  0.698178 -0.072511  0.452261  ...  0.571927  0.433360 -0.085450  0.795742   \n",
      "\n",
      "       1399      1400      1401      1402      1403  label  \n",
      "0  0.506459 -0.014391  0.767276  0.481888 -0.013124      0  \n",
      "1  0.386707 -0.008307  0.764039  0.377669 -0.009827      0  \n",
      "2  0.430438  0.057072  0.782424  0.425114  0.058912      0  \n",
      "3  0.362407 -0.061877  0.783411  0.351264 -0.066432      0  \n",
      "4  0.390777 -0.016918  0.813927  0.380013 -0.018391      0  \n",
      "\n",
      "[5 rows x 1405 columns]\n"
     ]
    }
   ],
   "source": [
    "# Carregar os landmarks e rótulos do arquivo .parquet\n",
    "landmarks_df = pd.read_parquet('/home/viniciuss/Documents/projetos/FER-2013_emotion_detection/landmarks_balanced.parquet')\n",
    "\n",
    "# Exibir as primeiras linhas do DataFrame para verificar\n",
    "print(\"Primeiras linhas do DataFrame:\")\n",
    "print(landmarks_df.head())"
   ]
  },
  {
   "cell_type": "code",
   "execution_count": 12,
   "metadata": {},
   "outputs": [
    {
     "name": "stdout",
     "output_type": "stream",
     "text": [
      "Tamanho do conjunto de treino: 12265 amostras\n",
      "Tamanho do conjunto de teste: 3067 amostras\n"
     ]
    }
   ],
   "source": [
    "# Separar features e targets\n",
    "X = landmarks_df.drop('label', axis=1).values\n",
    "y = landmarks_df['label'].values\n",
    "\n",
    "# Dividir dados em conjunto de treino e teste\n",
    "X_train, X_test, y_train, y_test = train_test_split(X, y, test_size=0.2, random_state=42, stratify=y)\n",
    "\n",
    "# Normalizar as features se necessário (dependendo do modelo utilizado)\n",
    "scaler = StandardScaler()\n",
    "X_train_scaled = scaler.fit_transform(X_train)\n",
    "X_test_scaled = scaler.transform(X_test)\n",
    "\n",
    "# Verificar tamanhos dos conjuntos\n",
    "print(f\"Tamanho do conjunto de treino: {len(X_train)} amostras\")\n",
    "print(f\"Tamanho do conjunto de teste: {len(X_test)} amostras\")"
   ]
  },
  {
   "cell_type": "markdown",
   "metadata": {},
   "source": [
    "# Treinamentos SVC, LDA e RFC"
   ]
  },
  {
   "cell_type": "code",
   "execution_count": 13,
   "metadata": {},
   "outputs": [
    {
     "name": "stdout",
     "output_type": "stream",
     "text": [
      "Acurácia do SVC: 0.65\n",
      "\n",
      "Relatório de Classificação do SVC:\n",
      "              precision    recall  f1-score   support\n",
      "\n",
      "           0       0.58      0.55      0.56       767\n",
      "           1       0.53      0.58      0.55       766\n",
      "           2       0.73      0.74      0.74       767\n",
      "           3       0.78      0.74      0.76       767\n",
      "\n",
      "    accuracy                           0.65      3067\n",
      "   macro avg       0.66      0.65      0.65      3067\n",
      "weighted avg       0.66      0.65      0.65      3067\n",
      "\n"
     ]
    }
   ],
   "source": [
    "# Inicializar o classificador SVC\n",
    "svc = SVC(random_state=42)\n",
    "\n",
    "# Treinar o modelo\n",
    "svc.fit(X_train_scaled, y_train)\n",
    "\n",
    "# Prever no conjunto de teste\n",
    "y_pred_svc = svc.predict(X_test_scaled)\n",
    "\n",
    "# Avaliar o desempenho\n",
    "accuracy_svc = accuracy_score(y_test, y_pred_svc)\n",
    "print(f\"Acurácia do SVC: {accuracy_svc:.2f}\")\n",
    "\n",
    "# Relatório de classificação\n",
    "print(\"\\nRelatório de Classificação do SVC:\")\n",
    "print(classification_report(y_test, y_pred_svc))"
   ]
  },
  {
   "cell_type": "code",
   "execution_count": 14,
   "metadata": {},
   "outputs": [
    {
     "name": "stdout",
     "output_type": "stream",
     "text": [
      "Acurácia do LDA: 0.69\n",
      "\n",
      "Relatório de Classificação do LDA:\n",
      "              precision    recall  f1-score   support\n",
      "\n",
      "           0       0.58      0.61      0.60       767\n",
      "           1       0.59      0.60      0.60       766\n",
      "           2       0.80      0.80      0.80       767\n",
      "           3       0.82      0.76      0.79       767\n",
      "\n",
      "    accuracy                           0.69      3067\n",
      "   macro avg       0.70      0.69      0.69      3067\n",
      "weighted avg       0.70      0.69      0.69      3067\n",
      "\n"
     ]
    }
   ],
   "source": [
    "# Inicializar o LDA\n",
    "lda = LinearDiscriminantAnalysis()\n",
    "\n",
    "# Treinar o modelo\n",
    "lda.fit(X_train_scaled, y_train)\n",
    "\n",
    "# Prever no conjunto de teste\n",
    "y_pred_lda = lda.predict(X_test_scaled)\n",
    "\n",
    "# Avaliar o desempenho\n",
    "accuracy_lda = accuracy_score(y_test, y_pred_lda)\n",
    "print(f\"Acurácia do LDA: {accuracy_lda:.2f}\")\n",
    "\n",
    "# Relatório de classificação\n",
    "print(\"\\nRelatório de Classificação do LDA:\")\n",
    "print(classification_report(y_test, y_pred_lda))"
   ]
  },
  {
   "cell_type": "code",
   "execution_count": 15,
   "metadata": {},
   "outputs": [
    {
     "name": "stdout",
     "output_type": "stream",
     "text": [
      "Acurácia do RFC: 0.61\n",
      "\n",
      "Relatório de Classificação do RFC:\n",
      "              precision    recall  f1-score   support\n",
      "\n",
      "           0       0.50      0.48      0.49       767\n",
      "           1       0.52      0.54      0.53       766\n",
      "           2       0.75      0.75      0.75       767\n",
      "           3       0.69      0.69      0.69       767\n",
      "\n",
      "    accuracy                           0.61      3067\n",
      "   macro avg       0.61      0.61      0.61      3067\n",
      "weighted avg       0.61      0.61      0.61      3067\n",
      "\n"
     ]
    }
   ],
   "source": [
    "# Inicializar o RFC\n",
    "rfc = RandomForestClassifier(random_state=42)\n",
    "\n",
    "# Treinar o modelo\n",
    "rfc.fit(X_train_scaled, y_train)\n",
    "\n",
    "# Prever no conjunto de teste\n",
    "y_pred_rfc = rfc.predict(X_test_scaled)\n",
    "\n",
    "# Avaliar o desempenho\n",
    "accuracy_rfc = accuracy_score(y_test, y_pred_rfc)\n",
    "print(f\"Acurácia do RFC: {accuracy_rfc:.2f}\")\n",
    "\n",
    "# Relatório de classificação\n",
    "print(\"\\nRelatório de Classificação do RFC:\")\n",
    "print(classification_report(y_test, y_pred_rfc))"
   ]
  },
  {
   "cell_type": "markdown",
   "metadata": {},
   "source": [
    "# Salvando"
   ]
  },
  {
   "cell_type": "code",
   "execution_count": 16,
   "metadata": {},
   "outputs": [
    {
     "name": "stdout",
     "output_type": "stream",
     "text": [
      "Modelo LDA salvo em /home/viniciuss/Documents/projetos/FER-2013_emotion_detection/lda_model.pkl\n"
     ]
    }
   ],
   "source": [
    "model_path = '/home/viniciuss/Documents/projetos/FER-2013_emotion_detection/lda_model.pkl'\n",
    "\n",
    "# Salvar o modelo LDA treinado\n",
    "with open(model_path, 'wb') as file:\n",
    "    pickle.dump(lda, file)\n",
    "\n",
    "print(f\"Modelo LDA salvo em {model_path}\")"
   ]
  }
 ],
 "metadata": {
  "kernelspec": {
   "display_name": ".venv",
   "language": "python",
   "name": "python3"
  },
  "language_info": {
   "codemirror_mode": {
    "name": "ipython",
    "version": 3
   },
   "file_extension": ".py",
   "mimetype": "text/x-python",
   "name": "python",
   "nbconvert_exporter": "python",
   "pygments_lexer": "ipython3",
   "version": "3.10.12"
  }
 },
 "nbformat": 4,
 "nbformat_minor": 2
}
